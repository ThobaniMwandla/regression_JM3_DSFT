{
 "cells": [
  {
   "cell_type": "markdown",
   "metadata": {},
   "source": [
    "# Machine Learning: Predict Project for regression_JM3_DSFT\n",
    "## EDSA Apple Prices Challenge\n",
    "\n",
    "###  Regression to predict the price of apples\n",
    "\n",
    "© Explore Data Science Academy"
   ]
  },
  {
   "cell_type": "markdown",
   "metadata": {},
   "source": [
    "<div class=\"markdown-converter__text--rendered\"><h1>Challenge Description</h1>\n",
    "<p> Imagine you are in the Fresh Produce Industry. How much stock do you have on hand? Not too little that you run out of stock when customers want to buy more. And not too much that food waste occurs.  How do you set your prices? Yields from farms fluctuate by season. Should your prices then also fluctuate by season?</p>\n",
    "<p> With this context, EDSA is challenging you to construct a regression algorithm, capable of accurately predicting how much a kilogram of Golden Delicious Apples will cost, given certain parameters. </p>\n",
    "<p> Providing an accurate and robust solution to this challenge has immense economic potential, with users of the system being able to accurately determine how much stock to have on hand and what price to set the Golden Delicious Apples to. </p>\n",
    "<p><img alt=\"\" src=\"https://www.googleapis.com/download/storage/v1/b/kaggle-user-content/o/inbox%2F2205222%2Fa6f42bf10f698f6d5fa3cf2ec3731941%2Fshutterstock_99365936Optimized.jpg?generation=1603875345551681&amp;alt=media\"></p>"
   ]
  },
  {
   "cell_type": "code",
   "execution_count": 6,
   "metadata": {},
   "outputs": [],
   "source": [
    "# Import libraries \n",
    "import numpy as np\n",
    "import pandas as pd\n",
    "import matplotlib.pyplot as plt\n",
    "import matplotlib.style as style\n",
    "import seaborn as sns\n",
    "import scipy.stats as stats"
   ]
  },
  {
   "cell_type": "code",
   "execution_count": 12,
   "metadata": {},
   "outputs": [],
   "source": [
    "# load the data from CSV file into pandas DataFrames\n",
    "train_df = pd.read_csv(r'C:\\Users\\court\\Desktop\\AdvRegPre\\regression_JM3_DSFT\\data\\df-train_set.csv')\n",
    "test_df = pd.read_csv(r'C:\\Users\\court\\Desktop\\AdvRegPre\\regression_JM3_DSFT\\data\\df-test_set.csv')"
   ]
  },
  {
   "cell_type": "code",
   "execution_count": 13,
   "metadata": {},
   "outputs": [
    {
     "output_type": "display_data",
     "data": {
      "text/plain": "            Province Container Size_Grade  Weight_Kg             Commodities  \\\n0               CAPE     EC120         1L       12.0      APPLE GRANNY SMITH   \n1               CAPE     M4183         1L       18.3  APPLE GOLDEN DELICIOUS   \n2            GAUTENG     AT200         1L       20.0       AVOCADO PINKERTON   \n3          TRANSVAAL     BJ090         1L        9.0      TOMATOES-LONG LIFE   \n4  WESTERN FREESTATE     PP100         1R       10.0   POTATO SIFRA (WASHED)   \n\n         Date  Low_Price  High_Price  Sales_Total  Total_Qty_Sold  \\\n0  2020-03-10      108.0       112.0       3236.0              29   \n1  2020-09-09      150.0       170.0      51710.0             332   \n2  2020-05-05       70.0        80.0       4860.0              66   \n3  2020-01-20       60.0        60.0        600.0              10   \n4  2020-07-14       40.0        45.0      41530.0             927   \n\n   Total_Kg_Sold  Stock_On_Hand  avg_price_per_kg  \n0          348.0              0              9.30  \n1         6075.6            822              8.51  \n2         1320.0             50              3.68  \n3           90.0              0              6.67  \n4         9270.0            393              4.48  ",
      "text/html": "<div>\n<style scoped>\n    .dataframe tbody tr th:only-of-type {\n        vertical-align: middle;\n    }\n\n    .dataframe tbody tr th {\n        vertical-align: top;\n    }\n\n    .dataframe thead th {\n        text-align: right;\n    }\n</style>\n<table border=\"1\" class=\"dataframe\">\n  <thead>\n    <tr style=\"text-align: right;\">\n      <th></th>\n      <th>Province</th>\n      <th>Container</th>\n      <th>Size_Grade</th>\n      <th>Weight_Kg</th>\n      <th>Commodities</th>\n      <th>Date</th>\n      <th>Low_Price</th>\n      <th>High_Price</th>\n      <th>Sales_Total</th>\n      <th>Total_Qty_Sold</th>\n      <th>Total_Kg_Sold</th>\n      <th>Stock_On_Hand</th>\n      <th>avg_price_per_kg</th>\n    </tr>\n  </thead>\n  <tbody>\n    <tr>\n      <th>0</th>\n      <td>CAPE</td>\n      <td>EC120</td>\n      <td>1L</td>\n      <td>12.0</td>\n      <td>APPLE GRANNY SMITH</td>\n      <td>2020-03-10</td>\n      <td>108.0</td>\n      <td>112.0</td>\n      <td>3236.0</td>\n      <td>29</td>\n      <td>348.0</td>\n      <td>0</td>\n      <td>9.30</td>\n    </tr>\n    <tr>\n      <th>1</th>\n      <td>CAPE</td>\n      <td>M4183</td>\n      <td>1L</td>\n      <td>18.3</td>\n      <td>APPLE GOLDEN DELICIOUS</td>\n      <td>2020-09-09</td>\n      <td>150.0</td>\n      <td>170.0</td>\n      <td>51710.0</td>\n      <td>332</td>\n      <td>6075.6</td>\n      <td>822</td>\n      <td>8.51</td>\n    </tr>\n    <tr>\n      <th>2</th>\n      <td>GAUTENG</td>\n      <td>AT200</td>\n      <td>1L</td>\n      <td>20.0</td>\n      <td>AVOCADO PINKERTON</td>\n      <td>2020-05-05</td>\n      <td>70.0</td>\n      <td>80.0</td>\n      <td>4860.0</td>\n      <td>66</td>\n      <td>1320.0</td>\n      <td>50</td>\n      <td>3.68</td>\n    </tr>\n    <tr>\n      <th>3</th>\n      <td>TRANSVAAL</td>\n      <td>BJ090</td>\n      <td>1L</td>\n      <td>9.0</td>\n      <td>TOMATOES-LONG LIFE</td>\n      <td>2020-01-20</td>\n      <td>60.0</td>\n      <td>60.0</td>\n      <td>600.0</td>\n      <td>10</td>\n      <td>90.0</td>\n      <td>0</td>\n      <td>6.67</td>\n    </tr>\n    <tr>\n      <th>4</th>\n      <td>WESTERN FREESTATE</td>\n      <td>PP100</td>\n      <td>1R</td>\n      <td>10.0</td>\n      <td>POTATO SIFRA (WASHED)</td>\n      <td>2020-07-14</td>\n      <td>40.0</td>\n      <td>45.0</td>\n      <td>41530.0</td>\n      <td>927</td>\n      <td>9270.0</td>\n      <td>393</td>\n      <td>4.48</td>\n    </tr>\n  </tbody>\n</table>\n</div>"
     },
     "metadata": {}
    },
    {
     "output_type": "display_data",
     "data": {
      "text/plain": "   Index              Province Container Size_Grade  Weight_Kg  \\\n0      1  W.CAPE-BERGRIVER ETC     EC120         1M       12.0   \n1      2  W.CAPE-BERGRIVER ETC     M4183         1X       18.3   \n2      3  W.CAPE-BERGRIVER ETC     EC120         1S       12.0   \n3      4  W.CAPE-BERGRIVER ETC     M4183         1M       18.3   \n4      5  W.CAPE-BERGRIVER ETC     M4183         1L       18.3   \n\n              Commodities        Date  Low_Price  High_Price  Sales_Total  \\\n0  APPLE GOLDEN DELICIOUS  2020-07-09      128.0       136.0       5008.0   \n1  APPLE GOLDEN DELICIOUS  2020-01-20      220.0       220.0       1760.0   \n2  APPLE GOLDEN DELICIOUS  2020-08-19      120.0       120.0        720.0   \n3  APPLE GOLDEN DELICIOUS  2020-05-06      160.0       160.0        160.0   \n4  APPLE GOLDEN DELICIOUS  2020-05-04      140.0       160.0      14140.0   \n\n   Total_Qty_Sold  Total_Kg_Sold  Stock_On_Hand  \n0              38          456.0              0  \n1               8          146.4              2  \n2               6           72.0             45  \n3               1           18.3              8  \n4             100         1830.0             19  ",
      "text/html": "<div>\n<style scoped>\n    .dataframe tbody tr th:only-of-type {\n        vertical-align: middle;\n    }\n\n    .dataframe tbody tr th {\n        vertical-align: top;\n    }\n\n    .dataframe thead th {\n        text-align: right;\n    }\n</style>\n<table border=\"1\" class=\"dataframe\">\n  <thead>\n    <tr style=\"text-align: right;\">\n      <th></th>\n      <th>Index</th>\n      <th>Province</th>\n      <th>Container</th>\n      <th>Size_Grade</th>\n      <th>Weight_Kg</th>\n      <th>Commodities</th>\n      <th>Date</th>\n      <th>Low_Price</th>\n      <th>High_Price</th>\n      <th>Sales_Total</th>\n      <th>Total_Qty_Sold</th>\n      <th>Total_Kg_Sold</th>\n      <th>Stock_On_Hand</th>\n    </tr>\n  </thead>\n  <tbody>\n    <tr>\n      <th>0</th>\n      <td>1</td>\n      <td>W.CAPE-BERGRIVER ETC</td>\n      <td>EC120</td>\n      <td>1M</td>\n      <td>12.0</td>\n      <td>APPLE GOLDEN DELICIOUS</td>\n      <td>2020-07-09</td>\n      <td>128.0</td>\n      <td>136.0</td>\n      <td>5008.0</td>\n      <td>38</td>\n      <td>456.0</td>\n      <td>0</td>\n    </tr>\n    <tr>\n      <th>1</th>\n      <td>2</td>\n      <td>W.CAPE-BERGRIVER ETC</td>\n      <td>M4183</td>\n      <td>1X</td>\n      <td>18.3</td>\n      <td>APPLE GOLDEN DELICIOUS</td>\n      <td>2020-01-20</td>\n      <td>220.0</td>\n      <td>220.0</td>\n      <td>1760.0</td>\n      <td>8</td>\n      <td>146.4</td>\n      <td>2</td>\n    </tr>\n    <tr>\n      <th>2</th>\n      <td>3</td>\n      <td>W.CAPE-BERGRIVER ETC</td>\n      <td>EC120</td>\n      <td>1S</td>\n      <td>12.0</td>\n      <td>APPLE GOLDEN DELICIOUS</td>\n      <td>2020-08-19</td>\n      <td>120.0</td>\n      <td>120.0</td>\n      <td>720.0</td>\n      <td>6</td>\n      <td>72.0</td>\n      <td>45</td>\n    </tr>\n    <tr>\n      <th>3</th>\n      <td>4</td>\n      <td>W.CAPE-BERGRIVER ETC</td>\n      <td>M4183</td>\n      <td>1M</td>\n      <td>18.3</td>\n      <td>APPLE GOLDEN DELICIOUS</td>\n      <td>2020-05-06</td>\n      <td>160.0</td>\n      <td>160.0</td>\n      <td>160.0</td>\n      <td>1</td>\n      <td>18.3</td>\n      <td>8</td>\n    </tr>\n    <tr>\n      <th>4</th>\n      <td>5</td>\n      <td>W.CAPE-BERGRIVER ETC</td>\n      <td>M4183</td>\n      <td>1L</td>\n      <td>18.3</td>\n      <td>APPLE GOLDEN DELICIOUS</td>\n      <td>2020-05-04</td>\n      <td>140.0</td>\n      <td>160.0</td>\n      <td>14140.0</td>\n      <td>100</td>\n      <td>1830.0</td>\n      <td>19</td>\n    </tr>\n  </tbody>\n</table>\n</div>"
     },
     "metadata": {}
    }
   ],
   "source": [
    "\n",
    "#Displaying the dataframes\n",
    "display(train_df.head())\n",
    "display(test_df.head())"
   ]
  },
  {
   "cell_type": "code",
   "execution_count": 14,
   "metadata": {},
   "outputs": [
    {
     "output_type": "stream",
     "name": "stdout",
     "text": [
      "<class 'pandas.core.frame.DataFrame'>\nRangeIndex: 64376 entries, 0 to 64375\nData columns (total 13 columns):\n #   Column            Non-Null Count  Dtype  \n---  ------            --------------  -----  \n 0   Province          64376 non-null  object \n 1   Container         64376 non-null  object \n 2   Size_Grade        64376 non-null  object \n 3   Weight_Kg         64376 non-null  float64\n 4   Commodities       64376 non-null  object \n 5   Date              64376 non-null  object \n 6   Low_Price         64376 non-null  float64\n 7   High_Price        64376 non-null  float64\n 8   Sales_Total       64376 non-null  float64\n 9   Total_Qty_Sold    64376 non-null  int64  \n 10  Total_Kg_Sold     64376 non-null  float64\n 11  Stock_On_Hand     64376 non-null  int64  \n 12  avg_price_per_kg  64376 non-null  float64\ndtypes: float64(6), int64(2), object(5)\nmemory usage: 6.4+ MB\n"
     ]
    },
    {
     "output_type": "display_data",
     "data": {
      "text/plain": "None"
     },
     "metadata": {}
    },
    {
     "output_type": "stream",
     "name": "stdout",
     "text": [
      "<class 'pandas.core.frame.DataFrame'>\nRangeIndex: 685 entries, 0 to 684\nData columns (total 13 columns):\n #   Column          Non-Null Count  Dtype  \n---  ------          --------------  -----  \n 0   Index           685 non-null    int64  \n 1   Province        685 non-null    object \n 2   Container       685 non-null    object \n 3   Size_Grade      685 non-null    object \n 4   Weight_Kg       685 non-null    float64\n 5   Commodities     685 non-null    object \n 6   Date            685 non-null    object \n 7   Low_Price       685 non-null    float64\n 8   High_Price      685 non-null    float64\n 9   Sales_Total     685 non-null    float64\n 10  Total_Qty_Sold  685 non-null    int64  \n 11  Total_Kg_Sold   685 non-null    float64\n 12  Stock_On_Hand   685 non-null    int64  \ndtypes: float64(5), int64(3), object(5)\nmemory usage: 69.7+ KB\n"
     ]
    },
    {
     "output_type": "display_data",
     "data": {
      "text/plain": "None"
     },
     "metadata": {}
    }
   ],
   "source": [
    "# analysing the null values \n",
    "\n",
    "display(train_df.info())\n",
    "display(test_df.info())"
   ]
  },
  {
   "cell_type": "code",
   "execution_count": 15,
   "metadata": {},
   "outputs": [
    {
     "output_type": "execute_result",
     "data": {
      "text/plain": [
       "     index              province container size_grade  weight_kg  \\\n",
       "0        1  W.CAPE-BERGRIVER ETC     EC120         1M       12.0   \n",
       "1        2  W.CAPE-BERGRIVER ETC     M4183         1X       18.3   \n",
       "2        3  W.CAPE-BERGRIVER ETC     EC120         1S       12.0   \n",
       "3        4  W.CAPE-BERGRIVER ETC     M4183         1M       18.3   \n",
       "4        5  W.CAPE-BERGRIVER ETC     M4183         1L       18.3   \n",
       "..     ...                   ...       ...        ...        ...   \n",
       "680    681  W.CAPE-BERGRIVER ETC     JE090         2S        9.0   \n",
       "681    682                  CAPE     EC120         1M       12.0   \n",
       "682    683  W.CAPE-BERGRIVER ETC     JE090         2X        9.0   \n",
       "683    684                  CAPE     M4183         1S       18.3   \n",
       "684    685                  CAPE     M4183         1S       18.3   \n",
       "\n",
       "                commodities        date  low_price  high_price  sales_total  \\\n",
       "0    APPLE GOLDEN DELICIOUS  2020-07-09      128.0       136.0       5008.0   \n",
       "1    APPLE GOLDEN DELICIOUS  2020-01-20      220.0       220.0       1760.0   \n",
       "2    APPLE GOLDEN DELICIOUS  2020-08-19      120.0       120.0        720.0   \n",
       "3    APPLE GOLDEN DELICIOUS  2020-05-06      160.0       160.0        160.0   \n",
       "4    APPLE GOLDEN DELICIOUS  2020-05-04      140.0       160.0      14140.0   \n",
       "..                      ...         ...        ...         ...          ...   \n",
       "680  APPLE GOLDEN DELICIOUS  2020-05-26       30.0        30.0       1320.0   \n",
       "681  APPLE GOLDEN DELICIOUS  2020-01-10       50.0       132.0       6290.0   \n",
       "682  APPLE GOLDEN DELICIOUS  2020-06-03       55.0        55.0        220.0   \n",
       "683  APPLE GOLDEN DELICIOUS  2020-02-22      120.0       150.0      27840.0   \n",
       "684  APPLE GOLDEN DELICIOUS  2020-03-04      120.0       160.0      71010.0   \n",
       "\n",
       "     total_qty_sold  total_kg_sold  stock_on_hand  \n",
       "0                38          456.0              0  \n",
       "1                 8          146.4              2  \n",
       "2                 6           72.0             45  \n",
       "3                 1           18.3              8  \n",
       "4               100         1830.0             19  \n",
       "..              ...            ...            ...  \n",
       "680              44          396.0            856  \n",
       "681              52          624.0            785  \n",
       "682               4           36.0            170  \n",
       "683             202         3696.6              0  \n",
       "684             491         8985.3              0  \n",
       "\n",
       "[685 rows x 13 columns]"
      ],
      "text/html": "<div>\n<style scoped>\n    .dataframe tbody tr th:only-of-type {\n        vertical-align: middle;\n    }\n\n    .dataframe tbody tr th {\n        vertical-align: top;\n    }\n\n    .dataframe thead th {\n        text-align: right;\n    }\n</style>\n<table border=\"1\" class=\"dataframe\">\n  <thead>\n    <tr style=\"text-align: right;\">\n      <th></th>\n      <th>index</th>\n      <th>province</th>\n      <th>container</th>\n      <th>size_grade</th>\n      <th>weight_kg</th>\n      <th>commodities</th>\n      <th>date</th>\n      <th>low_price</th>\n      <th>high_price</th>\n      <th>sales_total</th>\n      <th>total_qty_sold</th>\n      <th>total_kg_sold</th>\n      <th>stock_on_hand</th>\n    </tr>\n  </thead>\n  <tbody>\n    <tr>\n      <th>0</th>\n      <td>1</td>\n      <td>W.CAPE-BERGRIVER ETC</td>\n      <td>EC120</td>\n      <td>1M</td>\n      <td>12.0</td>\n      <td>APPLE GOLDEN DELICIOUS</td>\n      <td>2020-07-09</td>\n      <td>128.0</td>\n      <td>136.0</td>\n      <td>5008.0</td>\n      <td>38</td>\n      <td>456.0</td>\n      <td>0</td>\n    </tr>\n    <tr>\n      <th>1</th>\n      <td>2</td>\n      <td>W.CAPE-BERGRIVER ETC</td>\n      <td>M4183</td>\n      <td>1X</td>\n      <td>18.3</td>\n      <td>APPLE GOLDEN DELICIOUS</td>\n      <td>2020-01-20</td>\n      <td>220.0</td>\n      <td>220.0</td>\n      <td>1760.0</td>\n      <td>8</td>\n      <td>146.4</td>\n      <td>2</td>\n    </tr>\n    <tr>\n      <th>2</th>\n      <td>3</td>\n      <td>W.CAPE-BERGRIVER ETC</td>\n      <td>EC120</td>\n      <td>1S</td>\n      <td>12.0</td>\n      <td>APPLE GOLDEN DELICIOUS</td>\n      <td>2020-08-19</td>\n      <td>120.0</td>\n      <td>120.0</td>\n      <td>720.0</td>\n      <td>6</td>\n      <td>72.0</td>\n      <td>45</td>\n    </tr>\n    <tr>\n      <th>3</th>\n      <td>4</td>\n      <td>W.CAPE-BERGRIVER ETC</td>\n      <td>M4183</td>\n      <td>1M</td>\n      <td>18.3</td>\n      <td>APPLE GOLDEN DELICIOUS</td>\n      <td>2020-05-06</td>\n      <td>160.0</td>\n      <td>160.0</td>\n      <td>160.0</td>\n      <td>1</td>\n      <td>18.3</td>\n      <td>8</td>\n    </tr>\n    <tr>\n      <th>4</th>\n      <td>5</td>\n      <td>W.CAPE-BERGRIVER ETC</td>\n      <td>M4183</td>\n      <td>1L</td>\n      <td>18.3</td>\n      <td>APPLE GOLDEN DELICIOUS</td>\n      <td>2020-05-04</td>\n      <td>140.0</td>\n      <td>160.0</td>\n      <td>14140.0</td>\n      <td>100</td>\n      <td>1830.0</td>\n      <td>19</td>\n    </tr>\n    <tr>\n      <th>...</th>\n      <td>...</td>\n      <td>...</td>\n      <td>...</td>\n      <td>...</td>\n      <td>...</td>\n      <td>...</td>\n      <td>...</td>\n      <td>...</td>\n      <td>...</td>\n      <td>...</td>\n      <td>...</td>\n      <td>...</td>\n      <td>...</td>\n    </tr>\n    <tr>\n      <th>680</th>\n      <td>681</td>\n      <td>W.CAPE-BERGRIVER ETC</td>\n      <td>JE090</td>\n      <td>2S</td>\n      <td>9.0</td>\n      <td>APPLE GOLDEN DELICIOUS</td>\n      <td>2020-05-26</td>\n      <td>30.0</td>\n      <td>30.0</td>\n      <td>1320.0</td>\n      <td>44</td>\n      <td>396.0</td>\n      <td>856</td>\n    </tr>\n    <tr>\n      <th>681</th>\n      <td>682</td>\n      <td>CAPE</td>\n      <td>EC120</td>\n      <td>1M</td>\n      <td>12.0</td>\n      <td>APPLE GOLDEN DELICIOUS</td>\n      <td>2020-01-10</td>\n      <td>50.0</td>\n      <td>132.0</td>\n      <td>6290.0</td>\n      <td>52</td>\n      <td>624.0</td>\n      <td>785</td>\n    </tr>\n    <tr>\n      <th>682</th>\n      <td>683</td>\n      <td>W.CAPE-BERGRIVER ETC</td>\n      <td>JE090</td>\n      <td>2X</td>\n      <td>9.0</td>\n      <td>APPLE GOLDEN DELICIOUS</td>\n      <td>2020-06-03</td>\n      <td>55.0</td>\n      <td>55.0</td>\n      <td>220.0</td>\n      <td>4</td>\n      <td>36.0</td>\n      <td>170</td>\n    </tr>\n    <tr>\n      <th>683</th>\n      <td>684</td>\n      <td>CAPE</td>\n      <td>M4183</td>\n      <td>1S</td>\n      <td>18.3</td>\n      <td>APPLE GOLDEN DELICIOUS</td>\n      <td>2020-02-22</td>\n      <td>120.0</td>\n      <td>150.0</td>\n      <td>27840.0</td>\n      <td>202</td>\n      <td>3696.6</td>\n      <td>0</td>\n    </tr>\n    <tr>\n      <th>684</th>\n      <td>685</td>\n      <td>CAPE</td>\n      <td>M4183</td>\n      <td>1S</td>\n      <td>18.3</td>\n      <td>APPLE GOLDEN DELICIOUS</td>\n      <td>2020-03-04</td>\n      <td>120.0</td>\n      <td>160.0</td>\n      <td>71010.0</td>\n      <td>491</td>\n      <td>8985.3</td>\n      <td>0</td>\n    </tr>\n  </tbody>\n</table>\n<p>685 rows × 13 columns</p>\n</div>"
     },
     "metadata": {},
     "execution_count": 15
    }
   ],
   "source": [
    "def col_names_without_spaces(df):\n",
    "'''\n",
    "This code changes the columns that have white space with an underscore and converts all uppercase letters to lowercase\n",
    "'''\n",
    "\n",
    "  df.columns = [col.replace(\" \",\"_\") for col in df.columns] \n",
    "  df.columns = [col.lower() for col in df.columns]\n",
    "  return df\n",
    "\n",
    "col_names_without_spaces(train_df)\n",
    "col_names_without_spaces(test_df)"
   ]
  },
  {
   "cell_type": "code",
   "execution_count": null,
   "metadata": {},
   "outputs": [],
   "source": []
  }
 ],
 "metadata": {
  "kernelspec": {
   "name": "python385jvsc74a57bd031a87c099e252a1e4030829d4314ce612c43085b96e7aa2e93f3c437473eccae",
   "display_name": "Python 3.8.5 64-bit ('base': conda)"
  },
  "language_info": {
   "codemirror_mode": {
    "name": "ipython",
    "version": 3
   },
   "file_extension": ".py",
   "mimetype": "text/x-python",
   "name": "python",
   "nbconvert_exporter": "python",
   "pygments_lexer": "ipython3",
   "version": "3.8.5"
  }
 },
 "nbformat": 4,
 "nbformat_minor": 4
}