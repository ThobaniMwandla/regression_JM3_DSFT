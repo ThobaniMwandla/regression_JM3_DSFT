{
 "cells": [
  {
   "source": [
    "# Explore Data Science Academy\n",
    "## Regression challenge\n"
   ],
   "cell_type": "markdown",
   "metadata": {}
  },
  {
   "cell_type": "code",
   "execution_count": 51,
   "metadata": {},
   "outputs": [],
   "source": [
    "from scipy import stats\n",
    "import math\n",
    "import pickle\n",
    "import numpy as np\n",
    "import pandas as pd\n",
    "# Regression\n",
    "from sklearn.linear_model import LinearRegression\n",
    "# Model selection\n",
    "from sklearn.model_selection import train_test_split\n",
    "# Preprocessing\n",
    "from sklearn.preprocessing import StandardScaler\n",
    "# Visualisation\n",
    "import matplotlib.pyplot as plt\n",
    "import seaborn as sns\n",
    "%matplotlib inline\n",
    "# + more packages as we go along "
   ]
  },
  {
   "cell_type": "code",
   "execution_count": 43,
   "metadata": {},
   "outputs": [],
   "source": [
    "# load the data from CSV file into pandas DataFrames\n",
    "train_df = pd.read_csv(r'C:\\Users\\court\\Desktop\\AdvRegPre\\regression_JM3_DSFT\\regression_JM3_DSFT\\data\\df-train_set.csv')\n",
    "test_df = pd.read_csv(r'C:\\Users\\court\\Desktop\\AdvRegPre\\regression_JM3_DSFT\\regression_JM3_DSFT\\data\\df-test_set.csv')"
   ]
  },
  {
   "cell_type": "code",
   "execution_count": 44,
   "metadata": {},
   "outputs": [
    {
     "output_type": "display_data",
     "data": {
      "text/plain": "            Province Container Size_Grade  Weight_Kg             Commodities  \\\n0               CAPE     EC120         1L       12.0      APPLE GRANNY SMITH   \n1               CAPE     M4183         1L       18.3  APPLE GOLDEN DELICIOUS   \n2            GAUTENG     AT200         1L       20.0       AVOCADO PINKERTON   \n3          TRANSVAAL     BJ090         1L        9.0      TOMATOES-LONG LIFE   \n4  WESTERN FREESTATE     PP100         1R       10.0   POTATO SIFRA (WASHED)   \n\n         Date  Low_Price  High_Price  Sales_Total  Total_Qty_Sold  \\\n0  2020-03-10      108.0       112.0       3236.0              29   \n1  2020-09-09      150.0       170.0      51710.0             332   \n2  2020-05-05       70.0        80.0       4860.0              66   \n3  2020-01-20       60.0        60.0        600.0              10   \n4  2020-07-14       40.0        45.0      41530.0             927   \n\n   Total_Kg_Sold  Stock_On_Hand  avg_price_per_kg  \n0          348.0              0              9.30  \n1         6075.6            822              8.51  \n2         1320.0             50              3.68  \n3           90.0              0              6.67  \n4         9270.0            393              4.48  ",
      "text/html": "<div>\n<style scoped>\n    .dataframe tbody tr th:only-of-type {\n        vertical-align: middle;\n    }\n\n    .dataframe tbody tr th {\n        vertical-align: top;\n    }\n\n    .dataframe thead th {\n        text-align: right;\n    }\n</style>\n<table border=\"1\" class=\"dataframe\">\n  <thead>\n    <tr style=\"text-align: right;\">\n      <th></th>\n      <th>Province</th>\n      <th>Container</th>\n      <th>Size_Grade</th>\n      <th>Weight_Kg</th>\n      <th>Commodities</th>\n      <th>Date</th>\n      <th>Low_Price</th>\n      <th>High_Price</th>\n      <th>Sales_Total</th>\n      <th>Total_Qty_Sold</th>\n      <th>Total_Kg_Sold</th>\n      <th>Stock_On_Hand</th>\n      <th>avg_price_per_kg</th>\n    </tr>\n  </thead>\n  <tbody>\n    <tr>\n      <th>0</th>\n      <td>CAPE</td>\n      <td>EC120</td>\n      <td>1L</td>\n      <td>12.0</td>\n      <td>APPLE GRANNY SMITH</td>\n      <td>2020-03-10</td>\n      <td>108.0</td>\n      <td>112.0</td>\n      <td>3236.0</td>\n      <td>29</td>\n      <td>348.0</td>\n      <td>0</td>\n      <td>9.30</td>\n    </tr>\n    <tr>\n      <th>1</th>\n      <td>CAPE</td>\n      <td>M4183</td>\n      <td>1L</td>\n      <td>18.3</td>\n      <td>APPLE GOLDEN DELICIOUS</td>\n      <td>2020-09-09</td>\n      <td>150.0</td>\n      <td>170.0</td>\n      <td>51710.0</td>\n      <td>332</td>\n      <td>6075.6</td>\n      <td>822</td>\n      <td>8.51</td>\n    </tr>\n    <tr>\n      <th>2</th>\n      <td>GAUTENG</td>\n      <td>AT200</td>\n      <td>1L</td>\n      <td>20.0</td>\n      <td>AVOCADO PINKERTON</td>\n      <td>2020-05-05</td>\n      <td>70.0</td>\n      <td>80.0</td>\n      <td>4860.0</td>\n      <td>66</td>\n      <td>1320.0</td>\n      <td>50</td>\n      <td>3.68</td>\n    </tr>\n    <tr>\n      <th>3</th>\n      <td>TRANSVAAL</td>\n      <td>BJ090</td>\n      <td>1L</td>\n      <td>9.0</td>\n      <td>TOMATOES-LONG LIFE</td>\n      <td>2020-01-20</td>\n      <td>60.0</td>\n      <td>60.0</td>\n      <td>600.0</td>\n      <td>10</td>\n      <td>90.0</td>\n      <td>0</td>\n      <td>6.67</td>\n    </tr>\n    <tr>\n      <th>4</th>\n      <td>WESTERN FREESTATE</td>\n      <td>PP100</td>\n      <td>1R</td>\n      <td>10.0</td>\n      <td>POTATO SIFRA (WASHED)</td>\n      <td>2020-07-14</td>\n      <td>40.0</td>\n      <td>45.0</td>\n      <td>41530.0</td>\n      <td>927</td>\n      <td>9270.0</td>\n      <td>393</td>\n      <td>4.48</td>\n    </tr>\n  </tbody>\n</table>\n</div>"
     },
     "metadata": {}
    }
   ],
   "source": [
    "\n",
    "#Displaying the dataframes\n",
    "display(train_df.head())"
   ]
  },
  {
   "cell_type": "code",
   "execution_count": 45,
   "metadata": {},
   "outputs": [
    {
     "output_type": "stream",
     "name": "stdout",
     "text": [
      "<class 'pandas.core.frame.DataFrame'>\nRangeIndex: 64376 entries, 0 to 64375\nData columns (total 13 columns):\n #   Column            Non-Null Count  Dtype  \n---  ------            --------------  -----  \n 0   Province          64376 non-null  object \n 1   Container         64376 non-null  object \n 2   Size_Grade        64376 non-null  object \n 3   Weight_Kg         64376 non-null  float64\n 4   Commodities       64376 non-null  object \n 5   Date              64376 non-null  object \n 6   Low_Price         64376 non-null  float64\n 7   High_Price        64376 non-null  float64\n 8   Sales_Total       64376 non-null  float64\n 9   Total_Qty_Sold    64376 non-null  int64  \n 10  Total_Kg_Sold     64376 non-null  float64\n 11  Stock_On_Hand     64376 non-null  int64  \n 12  avg_price_per_kg  64376 non-null  float64\ndtypes: float64(6), int64(2), object(5)\nmemory usage: 6.4+ MB\n"
     ]
    },
    {
     "output_type": "display_data",
     "data": {
      "text/plain": "None"
     },
     "metadata": {}
    }
   ],
   "source": [
    "# analysing the null values \n",
    "\n",
    "display(train_df.info())"
   ]
  },
  {
   "cell_type": "code",
   "execution_count": 48,
   "metadata": {},
   "outputs": [],
   "source": [
    "df_gda = train_df[train_df['Commodities'] == 'APPLE GOLDEN DELICIOUS']"
   ]
  },
  {
   "cell_type": "code",
   "execution_count": 49,
   "metadata": {},
   "outputs": [
    {
     "output_type": "execute_result",
     "data": {
      "text/plain": [
       "         Weight_Kg    Low_Price   High_Price    Sales_Total  Total_Qty_Sold  \\\n",
       "count  1952.000000  1952.000000  1952.000000    1952.000000     1952.000000   \n",
       "mean     40.460912   174.307377   215.648053   20053.533811      174.510758   \n",
       "std      99.655169   373.553578   433.546159   39005.069445      308.810797   \n",
       "min       3.000000     2.000000     5.000000       5.000000        1.000000   \n",
       "25%       9.000000    50.000000    60.000000    1325.000000       12.000000   \n",
       "50%      12.000000    80.000000   108.000000    5495.000000       64.000000   \n",
       "75%      18.300000   127.250000   160.000000   21082.500000      200.000000   \n",
       "max     400.000000  2300.000000  3300.000000  369464.000000     4237.000000   \n",
       "\n",
       "       Total_Kg_Sold  Stock_On_Hand  avg_price_per_kg  \n",
       "count    1952.000000    1952.000000       1952.000000  \n",
       "mean     2960.176332     408.393955          6.778893  \n",
       "std      6097.416527     724.450582          2.248744  \n",
       "min         3.000000       0.000000          0.250000  \n",
       "25%       219.600000       9.000000          5.460000  \n",
       "50%       853.500000     126.500000          6.670000  \n",
       "75%      3093.525000     468.000000          8.280000  \n",
       "max     74000.000000    6400.000000         21.240000  "
      ],
      "text/html": "<div>\n<style scoped>\n    .dataframe tbody tr th:only-of-type {\n        vertical-align: middle;\n    }\n\n    .dataframe tbody tr th {\n        vertical-align: top;\n    }\n\n    .dataframe thead th {\n        text-align: right;\n    }\n</style>\n<table border=\"1\" class=\"dataframe\">\n  <thead>\n    <tr style=\"text-align: right;\">\n      <th></th>\n      <th>Weight_Kg</th>\n      <th>Low_Price</th>\n      <th>High_Price</th>\n      <th>Sales_Total</th>\n      <th>Total_Qty_Sold</th>\n      <th>Total_Kg_Sold</th>\n      <th>Stock_On_Hand</th>\n      <th>avg_price_per_kg</th>\n    </tr>\n  </thead>\n  <tbody>\n    <tr>\n      <th>count</th>\n      <td>1952.000000</td>\n      <td>1952.000000</td>\n      <td>1952.000000</td>\n      <td>1952.000000</td>\n      <td>1952.000000</td>\n      <td>1952.000000</td>\n      <td>1952.000000</td>\n      <td>1952.000000</td>\n    </tr>\n    <tr>\n      <th>mean</th>\n      <td>40.460912</td>\n      <td>174.307377</td>\n      <td>215.648053</td>\n      <td>20053.533811</td>\n      <td>174.510758</td>\n      <td>2960.176332</td>\n      <td>408.393955</td>\n      <td>6.778893</td>\n    </tr>\n    <tr>\n      <th>std</th>\n      <td>99.655169</td>\n      <td>373.553578</td>\n      <td>433.546159</td>\n      <td>39005.069445</td>\n      <td>308.810797</td>\n      <td>6097.416527</td>\n      <td>724.450582</td>\n      <td>2.248744</td>\n    </tr>\n    <tr>\n      <th>min</th>\n      <td>3.000000</td>\n      <td>2.000000</td>\n      <td>5.000000</td>\n      <td>5.000000</td>\n      <td>1.000000</td>\n      <td>3.000000</td>\n      <td>0.000000</td>\n      <td>0.250000</td>\n    </tr>\n    <tr>\n      <th>25%</th>\n      <td>9.000000</td>\n      <td>50.000000</td>\n      <td>60.000000</td>\n      <td>1325.000000</td>\n      <td>12.000000</td>\n      <td>219.600000</td>\n      <td>9.000000</td>\n      <td>5.460000</td>\n    </tr>\n    <tr>\n      <th>50%</th>\n      <td>12.000000</td>\n      <td>80.000000</td>\n      <td>108.000000</td>\n      <td>5495.000000</td>\n      <td>64.000000</td>\n      <td>853.500000</td>\n      <td>126.500000</td>\n      <td>6.670000</td>\n    </tr>\n    <tr>\n      <th>75%</th>\n      <td>18.300000</td>\n      <td>127.250000</td>\n      <td>160.000000</td>\n      <td>21082.500000</td>\n      <td>200.000000</td>\n      <td>3093.525000</td>\n      <td>468.000000</td>\n      <td>8.280000</td>\n    </tr>\n    <tr>\n      <th>max</th>\n      <td>400.000000</td>\n      <td>2300.000000</td>\n      <td>3300.000000</td>\n      <td>369464.000000</td>\n      <td>4237.000000</td>\n      <td>74000.000000</td>\n      <td>6400.000000</td>\n      <td>21.240000</td>\n    </tr>\n  </tbody>\n</table>\n</div>"
     },
     "metadata": {},
     "execution_count": 49
    }
   ],
   "source": [
    "df_gda.describe()"
   ]
  },
  {
   "cell_type": "code",
   "execution_count": null,
   "metadata": {},
   "outputs": [],
   "source": []
  }
 ],
 "metadata": {
  "kernelspec": {
   "name": "python385jvsc74a57bd031a87c099e252a1e4030829d4314ce612c43085b96e7aa2e93f3c437473eccae",
   "display_name": "Python 3.8.5 64-bit ('base': conda)"
  },
  "language_info": {
   "codemirror_mode": {
    "name": "ipython",
    "version": 3
   },
   "file_extension": ".py",
   "mimetype": "text/x-python",
   "name": "python",
   "nbconvert_exporter": "python",
   "pygments_lexer": "ipython3",
   "version": "3.8.5"
  }
 },
 "nbformat": 4,
 "nbformat_minor": 4
}